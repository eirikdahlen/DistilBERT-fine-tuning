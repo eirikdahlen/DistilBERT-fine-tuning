{
 "cells": [
  {
   "cell_type": "markdown",
   "metadata": {},
   "source": [
    "## Predictions using fine-tuned DistilBERT model\n",
    "This model has been fine-tuned by using the training data, and then saved and loaded here.\n"
   ]
  },
  {
   "cell_type": "code",
   "execution_count": 9,
   "metadata": {},
   "outputs": [],
   "source": [
    "import pandas as pd\n",
    "import numpy as np\n",
    "import seaborn as sns\n",
    "import matplotlib.pyplot as plt\n",
    "import tensorflow as tf\n",
    "from transformers import DistilBertTokenizerFast, TFDistilBertForSequenceClassification\n",
    "import os\n",
    "from sklearn.model_selection import train_test_split\n",
    "from sklearn.metrics import classification_report, confusion_matrix, ConfusionMatrixDisplay"
   ]
  },
  {
   "cell_type": "code",
   "execution_count": 6,
   "metadata": {},
   "outputs": [],
   "source": [
    "# The dataset can be provided upon request\n",
    "df = pd.read_csv(\"frikk_eirik_dataset.csv\")"
   ]
  },
  {
   "cell_type": "code",
   "execution_count": 7,
   "metadata": {},
   "outputs": [
    {
     "data": {
      "text/html": [
       "<div>\n",
       "<style scoped>\n",
       "    .dataframe tbody tr th:only-of-type {\n",
       "        vertical-align: middle;\n",
       "    }\n",
       "\n",
       "    .dataframe tbody tr th {\n",
       "        vertical-align: top;\n",
       "    }\n",
       "\n",
       "    .dataframe thead th {\n",
       "        text-align: right;\n",
       "    }\n",
       "</style>\n",
       "<table border=\"1\" class=\"dataframe\">\n",
       "  <thead>\n",
       "    <tr style=\"text-align: right;\">\n",
       "      <th></th>\n",
       "      <th>username</th>\n",
       "      <th>display_name</th>\n",
       "      <th>text_document</th>\n",
       "      <th>user_created_at</th>\n",
       "      <th>bio</th>\n",
       "      <th>location</th>\n",
       "      <th>target</th>\n",
       "    </tr>\n",
       "  </thead>\n",
       "  <tbody>\n",
       "    <tr>\n",
       "      <th>0</th>\n",
       "      <td>00110z</td>\n",
       "      <td>caged</td>\n",
       "      <td>MENTION MENTION yet we do its sad what were do...</td>\n",
       "      <td>2017-09-14 07:04:22</td>\n",
       "      <td>losing fat no matter what gw lighter than yest...</td>\n",
       "      <td>NaN</td>\n",
       "      <td>pro_ed</td>\n",
       "    </tr>\n",
       "    <tr>\n",
       "      <th>1</th>\n",
       "      <td>0Riles</td>\n",
       "      <td>rilès EMOJIHourglassWithFlowingSand</td>\n",
       "      <td>you want to go but dont want to stay you want ...</td>\n",
       "      <td>2014-03-24 22:21:03</td>\n",
       "      <td>hypsibius dujardini URL    mgmtbookingMENTION ...</td>\n",
       "      <td>NaN</td>\n",
       "      <td>unrelated</td>\n",
       "    </tr>\n",
       "    <tr>\n",
       "      <th>2</th>\n",
       "      <td>0_pluto_0</td>\n",
       "      <td>EMOJIGlowingStar nessa EMOJIGlowingStar</td>\n",
       "      <td>MENTION you deserve an amazing sleep and sweet...</td>\n",
       "      <td>2017-09-02 04:21:15</td>\n",
       "      <td>my multifandom ass cant have a specific fandom...</td>\n",
       "      <td>Probably Youtube</td>\n",
       "      <td>unrelated</td>\n",
       "    </tr>\n",
       "    <tr>\n",
       "      <th>3</th>\n",
       "      <td>0bessivley_thin</td>\n",
       "      <td>EMOJIRose  no one  EMOJIRose</td>\n",
       "      <td>rt MENTION i like a girl that can eat  no you ...</td>\n",
       "      <td>2017-07-27 00:07:26</td>\n",
       "      <td>sw lbs cw  gw  gw  gw  ugw  avi is not me</td>\n",
       "      <td>Washington USA</td>\n",
       "      <td>pro_ed</td>\n",
       "    </tr>\n",
       "    <tr>\n",
       "      <th>4</th>\n",
       "      <td>0hskinnylove</td>\n",
       "      <td>EMOJIUnfilledHeart</td>\n",
       "      <td>MENTION i think i have to have grapefruit cos ...</td>\n",
       "      <td>2013-08-19 09:28:04</td>\n",
       "      <td>currently self destructing</td>\n",
       "      <td>NaN</td>\n",
       "      <td>pro_ed</td>\n",
       "    </tr>\n",
       "  </tbody>\n",
       "</table>\n",
       "</div>"
      ],
      "text/plain": [
       "          username                               display_name  \\\n",
       "0           00110z                                      caged   \n",
       "1           0Riles       rilès EMOJIHourglassWithFlowingSand    \n",
       "2        0_pluto_0   EMOJIGlowingStar nessa EMOJIGlowingStar    \n",
       "3  0bessivley_thin              EMOJIRose  no one  EMOJIRose    \n",
       "4     0hskinnylove                        EMOJIUnfilledHeart    \n",
       "\n",
       "                                       text_document      user_created_at  \\\n",
       "0  MENTION MENTION yet we do its sad what were do...  2017-09-14 07:04:22   \n",
       "1  you want to go but dont want to stay you want ...  2014-03-24 22:21:03   \n",
       "2  MENTION you deserve an amazing sleep and sweet...  2017-09-02 04:21:15   \n",
       "3  rt MENTION i like a girl that can eat  no you ...  2017-07-27 00:07:26   \n",
       "4  MENTION i think i have to have grapefruit cos ...  2013-08-19 09:28:04   \n",
       "\n",
       "                                                 bio          location  \\\n",
       "0  losing fat no matter what gw lighter than yest...               NaN   \n",
       "1  hypsibius dujardini URL    mgmtbookingMENTION ...               NaN   \n",
       "2  my multifandom ass cant have a specific fandom...  Probably Youtube   \n",
       "3          sw lbs cw  gw  gw  gw  ugw  avi is not me    Washington USA   \n",
       "4                         currently self destructing               NaN   \n",
       "\n",
       "      target  \n",
       "0     pro_ed  \n",
       "1  unrelated  \n",
       "2  unrelated  \n",
       "3     pro_ed  \n",
       "4     pro_ed  "
      ]
     },
     "execution_count": 7,
     "metadata": {},
     "output_type": "execute_result"
    }
   ],
   "source": [
    "df.head()"
   ]
  },
  {
   "cell_type": "code",
   "execution_count": 10,
   "metadata": {},
   "outputs": [
    {
     "data": {
      "text/plain": [
       "unrelated       0.565064\n",
       "pro_ed          0.336020\n",
       "pro_recovery    0.098916\n",
       "Name: target, dtype: float64"
      ]
     },
     "execution_count": 10,
     "metadata": {},
     "output_type": "execute_result"
    },
    {
     "data": {
      "image/png": "[encoded data removed]",
      "text/plain": [
       "<Figure size 432x288 with 1 Axes>"
      ]
     },
     "metadata": {
      "needs_background": "light"
     },
     "output_type": "display_data"
    }
   ],
   "source": [
    "# Check distribution of target variable\n",
    "target_value_percentage = df[\"target\"].value_counts() / len(df)\n",
    "\n",
    "# Plot count of values in target-column\n",
    "sns.barplot(x=target_value_percentage.index, y=target_value_percentage.values)\n",
    "plt.title(\"Target percentages\")\n",
    "plt.ylabel(\"Percentage\")\n",
    "plt.xlabel(\"Target value\")\n",
    "\n",
    "target_value_percentage"
   ]
  },
  {
   "cell_type": "code",
   "execution_count": 11,
   "metadata": {},
   "outputs": [],
   "source": [
    "# For this experiment, only the text-documents are used as features\n",
    "X, y = df['text_document'], df[\"target\"]"
   ]
  },
  {
   "cell_type": "code",
   "execution_count": 13,
   "metadata": {},
   "outputs": [],
   "source": [
    "# We split the data, but only need test data as we are doing predictions\n",
    "_, X_test, _, y_test = train_test_split(X, y, train_size=0.8, random_state=42, stratify=df['target'])"
   ]
  },
  {
   "cell_type": "code",
   "execution_count": 14,
   "metadata": {},
   "outputs": [],
   "source": [
    "# Make sure all data is strings\n",
    "X_test = X_test.values.tolist()\n",
    "for i in range(len(X_test)):\n",
    "    X_test[i] = str(X_test[i])"
   ]
  },
  {
   "cell_type": "code",
   "execution_count": 15,
   "metadata": {},
   "outputs": [],
   "source": [
    "# Change each label into numerical class labels\n",
    "labels_dict = {'unrelated': 0, 'pro_ed': 1, 'pro_recovery': 2}\n",
    "\n",
    "y_test = y_test.values.tolist()\n",
    "for i in range(len(y_test)):\n",
    "    y_test[i] = labels_dict[y_test[i]]"
   ]
  },
  {
   "cell_type": "code",
   "execution_count": 16,
   "metadata": {},
   "outputs": [],
   "source": [
    "# Initialize the tokenizer\n",
    "tokenizer = DistilBertTokenizerFast.from_pretrained('distilbert-base-uncased')"
   ]
  },
  {
   "cell_type": "code",
   "execution_count": 17,
   "metadata": {},
   "outputs": [],
   "source": [
    "# Create tokenized encodings\n",
    "test_encodings = tokenizer(X_test, truncation=True, padding=True)"
   ]
  },
  {
   "cell_type": "code",
   "execution_count": 18,
   "metadata": {},
   "outputs": [],
   "source": [
    "# Convert encodings to numpy array\n",
    "test_data = np.array(list(dict(test_encodings).values()))"
   ]
  },
  {
   "cell_type": "code",
   "execution_count": 19,
   "metadata": {},
   "outputs": [
    {
     "name": "stderr",
     "output_type": "stream",
     "text": [
      "Some layers from the model checkpoint at distilbert-base-uncased were not used when initializing TFDistilBertForSequenceClassification: ['vocab_layer_norm', 'vocab_transform', 'vocab_projector', 'activation_13']\n",
      "- This IS expected if you are initializing TFDistilBertForSequenceClassification from the checkpoint of a model trained on another task or with another architecture (e.g. initializing a BertForSequenceClassification model from a BertForPreTraining model).\n",
      "- This IS NOT expected if you are initializing TFDistilBertForSequenceClassification from the checkpoint of a model that you expect to be exactly identical (initializing a BertForSequenceClassification model from a BertForSequenceClassification model).\n",
      "Some layers of TFDistilBertForSequenceClassification were not initialized from the model checkpoint at distilbert-base-uncased and are newly initialized: ['classifier', 'dropout_19', 'pre_classifier']\n",
      "You should probably TRAIN this model on a down-stream task to be able to use it for predictions and inference.\n"
     ]
    }
   ],
   "source": [
    "# Initialize model\n",
    "model = TFDistilBertForSequenceClassification.from_pretrained('distilbert-base-uncased', num_labels=3)"
   ]
  },
  {
   "cell_type": "code",
   "execution_count": 20,
   "metadata": {},
   "outputs": [],
   "source": [
    "# Get model checkpoint from latest epoch (epochs=5 here)\n",
    "checkpoint_path = \"training_ckpt2/cp-{epoch:04d}.ckpt\"\n",
    "checkpoint_dir = os.path.dirname(checkpoint_path)"
   ]
  },
  {
   "cell_type": "code",
   "execution_count": 21,
   "metadata": {},
   "outputs": [
    {
     "data": {
      "text/plain": [
       "<tensorflow.python.training.tracking.util.CheckpointLoadStatus at 0x1a4bc204d60>"
      ]
     },
     "execution_count": 21,
     "metadata": {},
     "output_type": "execute_result"
    }
   ],
   "source": [
    "# Load model weights from training\n",
    "latest = tf.train.latest_checkpoint(checkpoint_dir)\n",
    "model.load_weights(latest)"
   ]
  },
  {
   "cell_type": "code",
   "execution_count": 22,
   "metadata": {},
   "outputs": [
    {
     "name": "stdout",
     "output_type": "stream",
     "text": [
      "Model: \"tf_distil_bert_for_sequence_classification\"\n",
      "_________________________________________________________________\n",
      "Layer (type)                 Output Shape              Param #   \n",
      "=================================================================\n",
      "distilbert (TFDistilBertMain multiple                  66362880  \n",
      "_________________________________________________________________\n",
      "pre_classifier (Dense)       multiple                  590592    \n",
      "_________________________________________________________________\n",
      "classifier (Dense)           multiple                  2307      \n",
      "_________________________________________________________________\n",
      "dropout_19 (Dropout)         multiple                  0         \n",
      "=================================================================\n",
      "Total params: 66,955,779\n",
      "Trainable params: 66,955,779\n",
      "Non-trainable params: 0\n",
      "_________________________________________________________________\n"
     ]
    }
   ],
   "source": [
    "# Show model summary\n",
    "model.summary()"
   ]
  },
  {
   "cell_type": "code",
   "execution_count": 23,
   "metadata": {},
   "outputs": [],
   "source": [
    "# Do predictions\n",
    "preds = model.predict(test_data[0])"
   ]
  },
  {
   "cell_type": "code",
   "execution_count": 24,
   "metadata": {},
   "outputs": [
    {
     "name": "stdout",
     "output_type": "stream",
     "text": [
      "              precision    recall  f1-score   support\n",
      "\n",
      "           0      0.982     0.977     0.979       771\n",
      "           1      0.985     0.983     0.984       459\n",
      "           2      0.864     0.896     0.880       135\n",
      "\n",
      "    accuracy                          0.971      1365\n",
      "   macro avg      0.944     0.952     0.948      1365\n",
      "weighted avg      0.971     0.971     0.971      1365\n",
      "\n"
     ]
    }
   ],
   "source": [
    "# Take argmax to get label from predictions\n",
    "predictions = np.argmax(preds, axis=-1)\n",
    "\n",
    "# Show classification metrics\n",
    "clf_report = classification_report(y_test, predictions[0], digits=3)\n",
    "print(clf_report)"
   ]
  },
  {
   "cell_type": "code",
   "execution_count": 26,
   "metadata": {},
   "outputs": [
    {
     "data": {
      "text/plain": [
       "<sklearn.metrics._plot.confusion_matrix.ConfusionMatrixDisplay at 0x1a45c3a69d0>"
      ]
     },
     "execution_count": 26,
     "metadata": {},
     "output_type": "execute_result"
    },
    {
     "data": {
      "image/png": "[encoded data removed]",
      "text/plain": [
       "<Figure size 432x288 with 2 Axes>"
      ]
     },
     "metadata": {
      "needs_background": "light"
     },
     "output_type": "display_data"
    }
   ],
   "source": [
    "# Plot confusion matrix\n",
    "conf_mat = confusion_matrix(y_test, predictions[0])\n",
    "cmd = ConfusionMatrixDisplay(conf_mat, display_labels=['Unrelated','Pro-ED', 'Pro-recovery'])\n",
    "cmd.plot(cmap='Blues')"
   ]
  }
 ],
 "metadata": {
  "kernelspec": {
   "display_name": "TDT13",
   "language": "python",
   "name": "tdt13"
  },
  "language_info": {
   "codemirror_mode": {
    "name": "ipython",
    "version": 3
   },
   "file_extension": ".py",
   "mimetype": "text/x-python",
   "name": "python",
   "nbconvert_exporter": "python",
   "pygments_lexer": "ipython3",
   "version": "3.8.5"
  }
 },
 "nbformat": 4,
 "nbformat_minor": 4
}
